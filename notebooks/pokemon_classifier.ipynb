{
 "cells": [
  {
   "cell_type": "markdown",
   "id": "8ea2ee86",
   "metadata": {},
   "source": [
    "# Pokemon type classifier\n",
    "\n",
    "This project takes a dataset with Pokémon sprites and trains a CNN to classify whether a Pokémon belongs to a certain type (e.g. water: true or false). It is meant as a demo to show how DVC can be used in deep learning scenarios."
   ]
  },
  {
   "cell_type": "markdown",
   "id": "9bb0a073",
   "metadata": {},
   "source": [
    "## Imports and parameters"
   ]
  },
  {
   "cell_type": "code",
   "execution_count": 30,
   "id": "04cb1f0e",
   "metadata": {},
   "outputs": [],
   "source": [
    "import math\n",
    "import os\n",
    "import re\n",
    "import shutil\n",
    "from pathlib import Path\n",
    "from typing import Optional\n",
    "\n",
    "import matplotlib.pyplot as plt\n",
    "import numpy as np\n",
    "import pandas as pd\n",
    "import pickle\n",
    "import tensorflow as tf\n",
    "from keras.layers import (Activation, BatchNormalization, Conv2D, Dense,\n",
    "                          Dropout, Flatten, MaxPooling2D)\n",
    "from keras.models import Sequential\n",
    "from keras.preprocessing import image\n",
    "from keras.utils import to_categorical\n",
    "from sklearn.metrics import (ConfusionMatrixDisplay, classification_report,\n",
    "                             confusion_matrix, log_loss, accuracy_score, f1_score,\n",
    "                             precision_score, recall_score)\n",
    "from sklearn.model_selection import train_test_split\n",
    "from tensorflow import keras\n",
    "from tensorflow.keras import layers, regularizers\n",
    "from tqdm import tqdm\n",
    "import yaml"
   ]
  },
  {
   "cell_type": "code",
   "execution_count": 4,
   "id": "832cd0f4",
   "metadata": {
    "tags": [
     "parameters"
    ]
   },
   "outputs": [],
   "source": [
    "SEED: int = 42\n",
    "POKEMON_TYPE_TRAIN: str = \"Water\"\n",
    "    \n",
    "SOURCE_DIRECTORY: str = \"data/external\"\n",
    "DESTINATION_DIRECTORY: str = \"data/processed\"\n",
    "TRAIN_DATA_IMAGES: str = \"images-gen-1-8\"\n",
    "TRAIN_DATA_LABELS: str = \"stats/pokemon-gen-1-8.csv\"\n",
    "\n",
    "MODEL_TEST_SIZE: float = 0.2\n",
    "MODEL_LEARNING_RATE: float = 0.001\n",
    "MODEL_EPOCHS: int = 10\n",
    "MODEL_BATCH_SIZE: int = 120"
   ]
  },
  {
   "cell_type": "code",
   "execution_count": 5,
   "id": "3189d179",
   "metadata": {},
   "outputs": [],
   "source": [
    "def find_project_root() -> Optional[Path]:\n",
    "    current = Path(\".\").resolve()\n",
    "    \n",
    "    while True:\n",
    "        if (current / \".git\").exists():\n",
    "            return current\n",
    "        \n",
    "        if current.parent == current:\n",
    "            print(\"WARNING: No .git dir found\")\n",
    "            return current\n",
    "              \n",
    "        current = current.parent\n",
    "        \n",
    "\n",
    "PROJECT_ROOT = find_project_root()"
   ]
  },
  {
   "cell_type": "markdown",
   "id": "7cf2367b",
   "metadata": {},
   "source": [
    "## Data preprocessing"
   ]
  },
  {
   "cell_type": "code",
   "execution_count": 6,
   "id": "e0ac9358",
   "metadata": {},
   "outputs": [
    {
     "data": {
      "text/html": [
       "<div>\n",
       "<style scoped>\n",
       "    .dataframe tbody tr th:only-of-type {\n",
       "        vertical-align: middle;\n",
       "    }\n",
       "\n",
       "    .dataframe tbody tr th {\n",
       "        vertical-align: top;\n",
       "    }\n",
       "\n",
       "    .dataframe thead th {\n",
       "        text-align: right;\n",
       "    }\n",
       "</style>\n",
       "<table border=\"1\" class=\"dataframe\">\n",
       "  <thead>\n",
       "    <tr style=\"text-align: right;\">\n",
       "      <th></th>\n",
       "      <th>pokedex_number</th>\n",
       "      <th>name</th>\n",
       "      <th>type1</th>\n",
       "      <th>type2</th>\n",
       "      <th>isRock</th>\n",
       "      <th>isFairy</th>\n",
       "      <th>isGhost</th>\n",
       "      <th>isElectric</th>\n",
       "      <th>isGround</th>\n",
       "      <th>isFighting</th>\n",
       "      <th>...</th>\n",
       "      <th>isGrass</th>\n",
       "      <th>isBug</th>\n",
       "      <th>isIce</th>\n",
       "      <th>isDragon</th>\n",
       "      <th>isPoison</th>\n",
       "      <th>isNormal</th>\n",
       "      <th>isFlying</th>\n",
       "      <th>isSteel</th>\n",
       "      <th>isPsychic</th>\n",
       "      <th>isDark</th>\n",
       "    </tr>\n",
       "  </thead>\n",
       "  <tbody>\n",
       "    <tr>\n",
       "      <th>0</th>\n",
       "      <td>1</td>\n",
       "      <td>Bulbasaur</td>\n",
       "      <td>grass</td>\n",
       "      <td>poison</td>\n",
       "      <td>0</td>\n",
       "      <td>0</td>\n",
       "      <td>0</td>\n",
       "      <td>0</td>\n",
       "      <td>0</td>\n",
       "      <td>0</td>\n",
       "      <td>...</td>\n",
       "      <td>1</td>\n",
       "      <td>0</td>\n",
       "      <td>0</td>\n",
       "      <td>0</td>\n",
       "      <td>1</td>\n",
       "      <td>0</td>\n",
       "      <td>0</td>\n",
       "      <td>0</td>\n",
       "      <td>0</td>\n",
       "      <td>0</td>\n",
       "    </tr>\n",
       "    <tr>\n",
       "      <th>1</th>\n",
       "      <td>2</td>\n",
       "      <td>Ivysaur</td>\n",
       "      <td>grass</td>\n",
       "      <td>poison</td>\n",
       "      <td>0</td>\n",
       "      <td>0</td>\n",
       "      <td>0</td>\n",
       "      <td>0</td>\n",
       "      <td>0</td>\n",
       "      <td>0</td>\n",
       "      <td>...</td>\n",
       "      <td>1</td>\n",
       "      <td>0</td>\n",
       "      <td>0</td>\n",
       "      <td>0</td>\n",
       "      <td>1</td>\n",
       "      <td>0</td>\n",
       "      <td>0</td>\n",
       "      <td>0</td>\n",
       "      <td>0</td>\n",
       "      <td>0</td>\n",
       "    </tr>\n",
       "    <tr>\n",
       "      <th>2</th>\n",
       "      <td>3</td>\n",
       "      <td>Venusaur</td>\n",
       "      <td>grass</td>\n",
       "      <td>poison</td>\n",
       "      <td>0</td>\n",
       "      <td>0</td>\n",
       "      <td>0</td>\n",
       "      <td>0</td>\n",
       "      <td>0</td>\n",
       "      <td>0</td>\n",
       "      <td>...</td>\n",
       "      <td>1</td>\n",
       "      <td>0</td>\n",
       "      <td>0</td>\n",
       "      <td>0</td>\n",
       "      <td>1</td>\n",
       "      <td>0</td>\n",
       "      <td>0</td>\n",
       "      <td>0</td>\n",
       "      <td>0</td>\n",
       "      <td>0</td>\n",
       "    </tr>\n",
       "    <tr>\n",
       "      <th>3</th>\n",
       "      <td>4</td>\n",
       "      <td>Charmander</td>\n",
       "      <td>fire</td>\n",
       "      <td>NaN</td>\n",
       "      <td>0</td>\n",
       "      <td>0</td>\n",
       "      <td>0</td>\n",
       "      <td>0</td>\n",
       "      <td>0</td>\n",
       "      <td>0</td>\n",
       "      <td>...</td>\n",
       "      <td>0</td>\n",
       "      <td>0</td>\n",
       "      <td>0</td>\n",
       "      <td>0</td>\n",
       "      <td>0</td>\n",
       "      <td>0</td>\n",
       "      <td>0</td>\n",
       "      <td>0</td>\n",
       "      <td>0</td>\n",
       "      <td>0</td>\n",
       "    </tr>\n",
       "    <tr>\n",
       "      <th>4</th>\n",
       "      <td>5</td>\n",
       "      <td>Charmeleon</td>\n",
       "      <td>fire</td>\n",
       "      <td>NaN</td>\n",
       "      <td>0</td>\n",
       "      <td>0</td>\n",
       "      <td>0</td>\n",
       "      <td>0</td>\n",
       "      <td>0</td>\n",
       "      <td>0</td>\n",
       "      <td>...</td>\n",
       "      <td>0</td>\n",
       "      <td>0</td>\n",
       "      <td>0</td>\n",
       "      <td>0</td>\n",
       "      <td>0</td>\n",
       "      <td>0</td>\n",
       "      <td>0</td>\n",
       "      <td>0</td>\n",
       "      <td>0</td>\n",
       "      <td>0</td>\n",
       "    </tr>\n",
       "  </tbody>\n",
       "</table>\n",
       "<p>5 rows × 22 columns</p>\n",
       "</div>"
      ],
      "text/plain": [
       "   pokedex_number        name  type1   type2  isRock  isFairy  isGhost  \\\n",
       "0               1   Bulbasaur  grass  poison       0        0        0   \n",
       "1               2     Ivysaur  grass  poison       0        0        0   \n",
       "2               3    Venusaur  grass  poison       0        0        0   \n",
       "3               4  Charmander   fire     NaN       0        0        0   \n",
       "4               5  Charmeleon   fire     NaN       0        0        0   \n",
       "\n",
       "   isElectric  isGround  isFighting  ...  isGrass  isBug  isIce  isDragon  \\\n",
       "0           0         0           0  ...        1      0      0         0   \n",
       "1           0         0           0  ...        1      0      0         0   \n",
       "2           0         0           0  ...        1      0      0         0   \n",
       "3           0         0           0  ...        0      0      0         0   \n",
       "4           0         0           0  ...        0      0      0         0   \n",
       "\n",
       "   isPoison  isNormal  isFlying  isSteel  isPsychic  isDark  \n",
       "0         1         0         0        0          0       0  \n",
       "1         1         0         0        0          0       0  \n",
       "2         1         0         0        0          0       0  \n",
       "3         0         0         0        0          0       0  \n",
       "4         0         0         0        0          0       0  \n",
       "\n",
       "[5 rows x 22 columns]"
      ]
     },
     "execution_count": 6,
     "metadata": {},
     "output_type": "execute_result"
    }
   ],
   "source": [
    "# Process Pokémon and one-hot encode the types\n",
    "\n",
    "def preprocess_training_labels(dataset) -> pd.DataFrame:\n",
    "    pokemon = pd.read_csv(PROJECT_ROOT / SOURCE_DIRECTORY / dataset)\n",
    "    pokemon = pokemon[[\"pokedex_number\", \"name\", \"type1\", \"type2\"]]\n",
    "\n",
    "    # Create one-hot columns for each type\n",
    "    df_one_hot = pd.get_dummies(pokemon.type1.str.capitalize(), prefix='is', prefix_sep='')+pd.get_dummies(pokemon.type2.str.capitalize(), prefix='is', prefix_sep='')\n",
    "    df_one_hot = df_one_hot.clip(0, 1)\n",
    "    pokemon = pd.merge(pokemon, df_one_hot, left_index=True, right_index=True)\n",
    "            \n",
    "    # Save output\n",
    "    pokemon.to_csv(PROJECT_ROOT / DESTINATION_DIRECTORY / 'pokemon.csv', index=False)\n",
    "            \n",
    "    return(pokemon)\n",
    "\n",
    "pokemon = preprocess_training_labels(TRAIN_DATA_LABELS)\n",
    "pokemon.head()"
   ]
  },
  {
   "cell_type": "code",
   "execution_count": 7,
   "id": "43dbb2ca",
   "metadata": {},
   "outputs": [
    {
     "data": {
      "text/html": [
       "<div>\n",
       "<style scoped>\n",
       "    .dataframe tbody tr th:only-of-type {\n",
       "        vertical-align: middle;\n",
       "    }\n",
       "\n",
       "    .dataframe tbody tr th {\n",
       "        vertical-align: top;\n",
       "    }\n",
       "\n",
       "    .dataframe thead th {\n",
       "        text-align: right;\n",
       "    }\n",
       "</style>\n",
       "<table border=\"1\" class=\"dataframe\">\n",
       "  <thead>\n",
       "    <tr style=\"text-align: right;\">\n",
       "      <th></th>\n",
       "      <th>pokedex_number</th>\n",
       "      <th>name</th>\n",
       "      <th>type1</th>\n",
       "      <th>type2</th>\n",
       "      <th>isRock</th>\n",
       "      <th>isFairy</th>\n",
       "      <th>isGhost</th>\n",
       "      <th>isElectric</th>\n",
       "      <th>isGround</th>\n",
       "      <th>isFighting</th>\n",
       "      <th>...</th>\n",
       "      <th>isBug</th>\n",
       "      <th>isIce</th>\n",
       "      <th>isDragon</th>\n",
       "      <th>isPoison</th>\n",
       "      <th>isNormal</th>\n",
       "      <th>isFlying</th>\n",
       "      <th>isSteel</th>\n",
       "      <th>isPsychic</th>\n",
       "      <th>isDark</th>\n",
       "      <th>imagePath</th>\n",
       "    </tr>\n",
       "  </thead>\n",
       "  <tbody>\n",
       "    <tr>\n",
       "      <th>0</th>\n",
       "      <td>1</td>\n",
       "      <td>Bulbasaur</td>\n",
       "      <td>grass</td>\n",
       "      <td>poison</td>\n",
       "      <td>0</td>\n",
       "      <td>0</td>\n",
       "      <td>0</td>\n",
       "      <td>0</td>\n",
       "      <td>0</td>\n",
       "      <td>0</td>\n",
       "      <td>...</td>\n",
       "      <td>0</td>\n",
       "      <td>0</td>\n",
       "      <td>0</td>\n",
       "      <td>1</td>\n",
       "      <td>0</td>\n",
       "      <td>0</td>\n",
       "      <td>0</td>\n",
       "      <td>0</td>\n",
       "      <td>0</td>\n",
       "      <td>/Users/robdewit/Documents/example-pokemon-clas...</td>\n",
       "    </tr>\n",
       "    <tr>\n",
       "      <th>1</th>\n",
       "      <td>2</td>\n",
       "      <td>Ivysaur</td>\n",
       "      <td>grass</td>\n",
       "      <td>poison</td>\n",
       "      <td>0</td>\n",
       "      <td>0</td>\n",
       "      <td>0</td>\n",
       "      <td>0</td>\n",
       "      <td>0</td>\n",
       "      <td>0</td>\n",
       "      <td>...</td>\n",
       "      <td>0</td>\n",
       "      <td>0</td>\n",
       "      <td>0</td>\n",
       "      <td>1</td>\n",
       "      <td>0</td>\n",
       "      <td>0</td>\n",
       "      <td>0</td>\n",
       "      <td>0</td>\n",
       "      <td>0</td>\n",
       "      <td>/Users/robdewit/Documents/example-pokemon-clas...</td>\n",
       "    </tr>\n",
       "    <tr>\n",
       "      <th>2</th>\n",
       "      <td>3</td>\n",
       "      <td>Venusaur</td>\n",
       "      <td>grass</td>\n",
       "      <td>poison</td>\n",
       "      <td>0</td>\n",
       "      <td>0</td>\n",
       "      <td>0</td>\n",
       "      <td>0</td>\n",
       "      <td>0</td>\n",
       "      <td>0</td>\n",
       "      <td>...</td>\n",
       "      <td>0</td>\n",
       "      <td>0</td>\n",
       "      <td>0</td>\n",
       "      <td>1</td>\n",
       "      <td>0</td>\n",
       "      <td>0</td>\n",
       "      <td>0</td>\n",
       "      <td>0</td>\n",
       "      <td>0</td>\n",
       "      <td>/Users/robdewit/Documents/example-pokemon-clas...</td>\n",
       "    </tr>\n",
       "    <tr>\n",
       "      <th>3</th>\n",
       "      <td>4</td>\n",
       "      <td>Charmander</td>\n",
       "      <td>fire</td>\n",
       "      <td>NaN</td>\n",
       "      <td>0</td>\n",
       "      <td>0</td>\n",
       "      <td>0</td>\n",
       "      <td>0</td>\n",
       "      <td>0</td>\n",
       "      <td>0</td>\n",
       "      <td>...</td>\n",
       "      <td>0</td>\n",
       "      <td>0</td>\n",
       "      <td>0</td>\n",
       "      <td>0</td>\n",
       "      <td>0</td>\n",
       "      <td>0</td>\n",
       "      <td>0</td>\n",
       "      <td>0</td>\n",
       "      <td>0</td>\n",
       "      <td>/Users/robdewit/Documents/example-pokemon-clas...</td>\n",
       "    </tr>\n",
       "    <tr>\n",
       "      <th>4</th>\n",
       "      <td>5</td>\n",
       "      <td>Charmeleon</td>\n",
       "      <td>fire</td>\n",
       "      <td>NaN</td>\n",
       "      <td>0</td>\n",
       "      <td>0</td>\n",
       "      <td>0</td>\n",
       "      <td>0</td>\n",
       "      <td>0</td>\n",
       "      <td>0</td>\n",
       "      <td>...</td>\n",
       "      <td>0</td>\n",
       "      <td>0</td>\n",
       "      <td>0</td>\n",
       "      <td>0</td>\n",
       "      <td>0</td>\n",
       "      <td>0</td>\n",
       "      <td>0</td>\n",
       "      <td>0</td>\n",
       "      <td>0</td>\n",
       "      <td>/Users/robdewit/Documents/example-pokemon-clas...</td>\n",
       "    </tr>\n",
       "  </tbody>\n",
       "</table>\n",
       "<p>5 rows × 23 columns</p>\n",
       "</div>"
      ],
      "text/plain": [
       "   pokedex_number        name  type1   type2  isRock  isFairy  isGhost  \\\n",
       "0               1   Bulbasaur  grass  poison       0        0        0   \n",
       "1               2     Ivysaur  grass  poison       0        0        0   \n",
       "2               3    Venusaur  grass  poison       0        0        0   \n",
       "3               4  Charmander   fire     NaN       0        0        0   \n",
       "4               5  Charmeleon   fire     NaN       0        0        0   \n",
       "\n",
       "   isElectric  isGround  isFighting  ...  isBug  isIce  isDragon  isPoison  \\\n",
       "0           0         0           0  ...      0      0         0         1   \n",
       "1           0         0           0  ...      0      0         0         1   \n",
       "2           0         0           0  ...      0      0         0         1   \n",
       "3           0         0           0  ...      0      0         0         0   \n",
       "4           0         0           0  ...      0      0         0         0   \n",
       "\n",
       "   isNormal  isFlying  isSteel  isPsychic  isDark  \\\n",
       "0         0         0        0          0       0   \n",
       "1         0         0        0          0       0   \n",
       "2         0         0        0          0       0   \n",
       "3         0         0        0          0       0   \n",
       "4         0         0        0          0       0   \n",
       "\n",
       "                                           imagePath  \n",
       "0  /Users/robdewit/Documents/example-pokemon-clas...  \n",
       "1  /Users/robdewit/Documents/example-pokemon-clas...  \n",
       "2  /Users/robdewit/Documents/example-pokemon-clas...  \n",
       "3  /Users/robdewit/Documents/example-pokemon-clas...  \n",
       "4  /Users/robdewit/Documents/example-pokemon-clas...  \n",
       "\n",
       "[5 rows x 23 columns]"
      ]
     },
     "execution_count": 7,
     "metadata": {},
     "output_type": "execute_result"
    }
   ],
   "source": [
    "# Process image data\n",
    "\n",
    "def preprocess_training_data(dataset) -> pd.DataFrame:\n",
    "\n",
    "    data_directory_images = PROJECT_ROOT / SOURCE_DIRECTORY / dataset\n",
    "    output_directory = PROJECT_ROOT / DESTINATION_DIRECTORY / \"pokemon\"\n",
    "\n",
    "    pokemon = pd.read_csv(PROJECT_ROOT / DESTINATION_DIRECTORY / 'pokemon.csv')\n",
    "    pokemon[\"imagePath\"] = np.nan\n",
    "\n",
    "    # Remove processed folder and create empty new one\n",
    "    try:\n",
    "        shutil.rmtree(output_directory)\n",
    "        os.mkdir(output_directory)\n",
    "    except:\n",
    "        os.mkdir(output_directory)\n",
    "\n",
    "    # Copy images to processed folder\n",
    "    for image in os.listdir(data_directory_images):\n",
    "        pokemon_id = image.split('.')[0]\n",
    "\n",
    "        # Add leading zeroes to ID\n",
    "        pokemon_id = pokemon_id.zfill(3)\n",
    "\n",
    "        # Images with no variety (e.g. \"211.png\")\n",
    "        if pokemon_id.isnumeric():\n",
    "\n",
    "            # Copy to processed folder\n",
    "            src = data_directory_images / image\n",
    "            dst = os.path.join(output_directory, pokemon_id + \".png\")\n",
    "            shutil.copyfile(src, dst)\n",
    "\n",
    "    # Set image path in data frame\n",
    "    pokemon['imagePath'] = pokemon['pokedex_number'].apply(lambda x: os.path.join(output_directory, str(x).zfill(3) + '.png'))\n",
    "\n",
    "    # Drop Pokemon without image path\n",
    "    pokemon = pokemon.dropna(subset=[\"imagePath\"])\n",
    "    \n",
    "    # Save pokemon.csv with image paths\n",
    "    pokemon.to_csv(PROJECT_ROOT / DESTINATION_DIRECTORY / 'pokemon-with-image-paths.csv', index=False)\n",
    "    \n",
    "    return(pokemon)\n",
    "\n",
    "pokemon = preprocess_training_data(TRAIN_DATA_IMAGES)\n",
    "pokemon.head()"
   ]
  },
  {
   "cell_type": "markdown",
   "id": "6d76e7fb",
   "metadata": {},
   "source": [
    "## Load training data and create split"
   ]
  },
  {
   "cell_type": "code",
   "execution_count": 8,
   "id": "fa9587d5",
   "metadata": {},
   "outputs": [
    {
     "name": "stderr",
     "output_type": "stream",
     "text": [
      "100%|█████████████████████████████████████████████████████████████████████████| 801/801 [00:04<00:00, 180.80it/s]\n"
     ]
    }
   ],
   "source": [
    "# Load images as training data\n",
    "\n",
    "def load_training_data(labels) -> np.array:\n",
    "    train_image = []\n",
    "\n",
    "    for i in tqdm(range(labels.shape[0])):\n",
    "\n",
    "        img = tf.keras.utils.load_img(labels.iloc[i][\"imagePath\"], color_mode='rgba')\n",
    "        img = tf.keras.utils.img_to_array(img)\n",
    "        img = img/255\n",
    "        train_image.append(img)\n",
    "    X = np.array(train_image)\n",
    "    \n",
    "    return(X)\n",
    "\n",
    "X = load_training_data(pokemon)\n",
    "X.shape\n",
    "    \n",
    "# Set dimensions for input sizes later on\n",
    "model_image_size_x = len(X[1])\n",
    "model_image_size_y = len(X[2])"
   ]
  },
  {
   "cell_type": "code",
   "execution_count": 9,
   "id": "ce38d32d",
   "metadata": {},
   "outputs": [],
   "source": [
    "# Create labels\n",
    "\n",
    "def create_labels(labels):\n",
    "    return(pokemon[[\"is\" + POKEMON_TYPE_TRAIN]])\n",
    "\n",
    "y = create_labels(pokemon)"
   ]
  },
  {
   "cell_type": "code",
   "execution_count": 10,
   "id": "b86f832e",
   "metadata": {},
   "outputs": [
    {
     "name": "stdout",
     "output_type": "stream",
     "text": [
      "(640, 475, 475, 4) (640, 1)\n",
      "(161, 475, 475, 4) (161, 1)\n"
     ]
    }
   ],
   "source": [
    "# Train test split\n",
    "\n",
    "X_train, X_test, y_train, y_test = train_test_split(X, y, random_state=SEED, test_size=MODEL_TEST_SIZE, stratify=y)\n",
    "\n",
    "print(X_train.shape, y_train.shape)\n",
    "print(X_test.shape, y_test.shape)"
   ]
  },
  {
   "cell_type": "markdown",
   "id": "dd36cbb4",
   "metadata": {},
   "source": [
    "## Define model and train"
   ]
  },
  {
   "cell_type": "code",
   "execution_count": 11,
   "id": "d0d7e97c",
   "metadata": {},
   "outputs": [
    {
     "name": "stdout",
     "output_type": "stream",
     "text": [
      "Metal device set to: Apple M1 Pro\n",
      "Model: \"sequential\"\n",
      "_________________________________________________________________\n",
      " Layer (type)                Output Shape              Param #   \n",
      "=================================================================\n",
      " conv2d (Conv2D)             (None, 471, 471, 4)       404       \n",
      "                                                                 \n",
      " max_pooling2d (MaxPooling2D  (None, 235, 235, 4)      0         \n",
      " )                                                               \n",
      "                                                                 \n",
      " dropout (Dropout)           (None, 235, 235, 4)       0         \n",
      "                                                                 \n",
      " conv2d_1 (Conv2D)           (None, 231, 231, 4)       404       \n",
      "                                                                 \n",
      " max_pooling2d_1 (MaxPooling  (None, 115, 115, 4)      0         \n",
      " 2D)                                                             \n",
      "                                                                 \n",
      " dense (Dense)               (None, 115, 115, 8)       40        \n",
      "                                                                 \n",
      " dropout_1 (Dropout)         (None, 115, 115, 8)       0         \n",
      "                                                                 \n",
      " flatten (Flatten)           (None, 105800)            0         \n",
      "                                                                 \n",
      " dense_1 (Dense)             (None, 1)                 105801    \n",
      "                                                                 \n",
      "=================================================================\n",
      "Total params: 106,649\n",
      "Trainable params: 106,649\n",
      "Non-trainable params: 0\n",
      "_________________________________________________________________\n"
     ]
    },
    {
     "name": "stderr",
     "output_type": "stream",
     "text": [
      "2022-09-09 13:17:30.236003: I tensorflow/core/common_runtime/pluggable_device/pluggable_device_factory.cc:305] Could not identify NUMA node of platform GPU ID 0, defaulting to 0. Your kernel may not have been built with NUMA support.\n",
      "2022-09-09 13:17:30.236428: I tensorflow/core/common_runtime/pluggable_device/pluggable_device_factory.cc:271] Created TensorFlow device (/job:localhost/replica:0/task:0/device:GPU:0 with 0 MB memory) -> physical PluggableDevice (device: 0, name: METAL, pci bus id: <undefined>)\n"
     ]
    }
   ],
   "source": [
    "img_input = layers.Input(shape=(model_image_size_x, model_image_size_y, 4))\n",
    "\n",
    "model = Sequential()\n",
    "\n",
    "model.add(Conv2D(4, kernel_size=(5,5), activation='relu', kernel_regularizer=regularizers.l2(l=0.01), input_shape=(model_image_size_x, model_image_size_y, 4)))\n",
    "model.add(MaxPooling2D(pool_size=(2, 2)))\n",
    "\n",
    "model.add(Dropout(0.2))\n",
    "\n",
    "model.add(Conv2D(4, kernel_size=(5,5), activation='relu', kernel_regularizer=regularizers.l2(l=0.01)))\n",
    "model.add(MaxPooling2D(pool_size=(2, 2)))\n",
    "\n",
    "# model.add(Dropout(0.2))\n",
    "\n",
    "model.add(Dense(8, activation=\"relu\"))\n",
    "\n",
    "model.add(Dropout(0.2))\n",
    "model.add(Flatten())\n",
    "\n",
    "model.add(Dense(1, activation=\"sigmoid\"))\n",
    "\n",
    "optimizer = keras.optimizers.Adam(learning_rate=MODEL_LEARNING_RATE) #Adam, RMSprop or SGD\n",
    "\n",
    "model.compile(\n",
    "    loss='binary_crossentropy'\n",
    "    , optimizer=optimizer\n",
    "    , metrics=[keras.metrics.AUC()]\n",
    "#     , metrics=[keras.metrics.Recall()]\n",
    ")\n",
    "\n",
    "model.summary()"
   ]
  },
  {
   "cell_type": "code",
   "execution_count": 12,
   "id": "70e9a4b7",
   "metadata": {},
   "outputs": [
    {
     "name": "stdout",
     "output_type": "stream",
     "text": [
      "Epoch 1/10\n"
     ]
    },
    {
     "name": "stderr",
     "output_type": "stream",
     "text": [
      "2022-09-09 13:17:33.497986: W tensorflow/core/platform/profile_utils/cpu_utils.cc:128] Failed to get CPU frequency: 0 Hz\n",
      "2022-09-09 13:17:33.885791: I tensorflow/core/grappler/optimizers/custom_graph_optimizer_registry.cc:113] Plugin optimizer for device_type GPU is enabled.\n"
     ]
    },
    {
     "name": "stdout",
     "output_type": "stream",
     "text": [
      "6/6 [==============================] - ETA: 0s - loss: 1.0254 - auc: 0.5578"
     ]
    },
    {
     "name": "stderr",
     "output_type": "stream",
     "text": [
      "2022-09-09 13:17:38.262326: I tensorflow/core/grappler/optimizers/custom_graph_optimizer_registry.cc:113] Plugin optimizer for device_type GPU is enabled.\n"
     ]
    },
    {
     "name": "stdout",
     "output_type": "stream",
     "text": [
      "6/6 [==============================] - 5s 599ms/step - loss: 1.0254 - auc: 0.5578 - val_loss: 0.6190 - val_auc: 0.5943\n",
      "Epoch 2/10\n",
      "6/6 [==============================] - 3s 482ms/step - loss: 0.5689 - auc: 0.5317 - val_loss: 0.8719 - val_auc: 0.5869\n",
      "Epoch 3/10\n",
      "6/6 [==============================] - 3s 499ms/step - loss: 0.3647 - auc: 0.6848 - val_loss: 0.7673 - val_auc: 0.5826\n",
      "Epoch 4/10\n",
      "6/6 [==============================] - 3s 501ms/step - loss: 0.2677 - auc: 0.6264 - val_loss: 0.6852 - val_auc: 0.5623\n",
      "Epoch 5/10\n",
      "6/6 [==============================] - 3s 470ms/step - loss: 0.2637 - auc: 0.6846 - val_loss: 0.7391 - val_auc: 0.5321\n",
      "Epoch 6/10\n",
      "6/6 [==============================] - 3s 459ms/step - loss: 0.2484 - auc: 0.7309 - val_loss: 0.7716 - val_auc: 0.5358\n",
      "Epoch 7/10\n",
      "6/6 [==============================] - 3s 461ms/step - loss: 0.2422 - auc: 0.8156 - val_loss: 0.7724 - val_auc: 0.5350\n",
      "Epoch 8/10\n",
      "6/6 [==============================] - 3s 422ms/step - loss: 0.2337 - auc: 0.8401 - val_loss: 0.6854 - val_auc: 0.5236\n",
      "Epoch 9/10\n",
      "6/6 [==============================] - 2s 399ms/step - loss: 0.2248 - auc: 0.8488 - val_loss: 0.6341 - val_auc: 0.5115\n",
      "Epoch 10/10\n",
      "6/6 [==============================] - 2s 391ms/step - loss: 0.2156 - auc: 0.8467 - val_loss: 0.6625 - val_auc: 0.5123\n"
     ]
    }
   ],
   "source": [
    "# Now train the model\n",
    "\n",
    "def calculate_class_weights(y_train):\n",
    "    ratio_true = sum(y_train[\"isWater\"] == 1) / len(y_train[\"isWater\"])\n",
    "    ratio_false = sum(y_train[\"isWater\"] != 1) / len(y_train[\"isWater\"])\n",
    "\n",
    "    return {0: ratio_true, 1: ratio_false}\n",
    "\n",
    "\n",
    "estimator = model.fit(X_train, y_train, \n",
    "                      validation_data=(X_test, y_test),\n",
    "                      class_weight= calculate_class_weights(y_train),\n",
    "                      epochs=MODEL_EPOCHS, \n",
    "                      batch_size=MODEL_BATCH_SIZE,\n",
    "                      verbose=1)"
   ]
  },
  {
   "cell_type": "markdown",
   "id": "5a467747",
   "metadata": {},
   "source": [
    "## Plot training history and save model"
   ]
  },
  {
   "cell_type": "code",
   "execution_count": 13,
   "id": "c2a250ff",
   "metadata": {},
   "outputs": [
    {
     "data": {
      "image/png": "[encoded data removed]",
      "text/plain": [
       "<Figure size 432x288 with 1 Axes>"
      ]
     },
     "metadata": {
      "needs_background": "light"
     },
     "output_type": "display_data"
    },
    {
     "name": "stderr",
     "output_type": "stream",
     "text": [
      "WARNING:absl:Found untraced functions such as _jit_compiled_convolution_op, _jit_compiled_convolution_op while saving (showing 2 of 2). These functions will not be directly callable after loading.\n"
     ]
    },
    {
     "name": "stdout",
     "output_type": "stream",
     "text": [
      "INFO:tensorflow:Assets written to: ram://c9b7b27e-3f29-4722-9f46-8dd02066a0d1/assets\n"
     ]
    },
    {
     "name": "stderr",
     "output_type": "stream",
     "text": [
      "INFO:tensorflow:Assets written to: ram://c9b7b27e-3f29-4722-9f46-8dd02066a0d1/assets\n"
     ]
    }
   ],
   "source": [
    "# Training history\n",
    "plt.figure()\n",
    "plt.ylabel('Loss / Accuracy')\n",
    "plt.xlabel('Epoch')\n",
    "\n",
    "for k in estimator.history.keys():\n",
    "    plt.plot(estimator.history[k], label = k) \n",
    "plt.legend(loc='best')\n",
    "\n",
    "plt.savefig(PROJECT_ROOT / \"outputs\" / \"train_history.png\", dpi=150, bbox_inches='tight', pad_inches=0)\n",
    "plt.show()\n",
    "\n",
    "# Save model itself\n",
    "pickle.dump(estimator, open(PROJECT_ROOT / \"outputs\" / \"model.pckl\", \"wb\"))"
   ]
  },
  {
   "cell_type": "markdown",
   "id": "72f3c9a0",
   "metadata": {},
   "source": [
    "## Validation"
   ]
  },
  {
   "cell_type": "code",
   "execution_count": 14,
   "id": "5bda34ad",
   "metadata": {},
   "outputs": [
    {
     "name": "stdout",
     "output_type": "stream",
     "text": [
      "0.60657305\n"
     ]
    },
    {
     "name": "stderr",
     "output_type": "stream",
     "text": [
      "2022-09-09 13:22:07.293359: I tensorflow/core/grappler/optimizers/custom_graph_optimizer_registry.cc:113] Plugin optimizer for device_type GPU is enabled.\n"
     ]
    },
    {
     "data": {
      "image/png": "[encoded data removed]",
      "text/plain": [
       "<Figure size 432x288 with 1 Axes>"
      ]
     },
     "metadata": {
      "needs_background": "light"
     },
     "output_type": "display_data"
    }
   ],
   "source": [
    "def predict_pokemon(id: str, verbose=0):\n",
    "    \n",
    "    id = id.zfill(3)\n",
    "    \n",
    "    img = tf.keras.utils.load_img(PROJECT_ROOT/DESTINATION_DIRECTORY/'pokemon'/f'{id}.png', color_mode='rgba')\n",
    "    img = tf.keras.utils.img_to_array(img)\n",
    "    img = img/255\n",
    "\n",
    "\n",
    "    classes = y\n",
    "    proba = model.predict(img.reshape(1,475,475,4), verbose=verbose)\n",
    "    \n",
    "    plt.clf()\n",
    "    plt.imshow(img)\n",
    "    \n",
    "    return proba[0][0]\n",
    "\n",
    "print(predict_pokemon(\"258\"))"
   ]
  },
  {
   "cell_type": "code",
   "execution_count": 15,
   "id": "87081b15",
   "metadata": {},
   "outputs": [
    {
     "name": "stdout",
     "output_type": "stream",
     "text": [
      "26/26 [==============================] - 1s 28ms/step\n"
     ]
    }
   ],
   "source": [
    "# Predict all Pokémon\n",
    "predictions = model.predict(X) > 0.5"
   ]
  },
  {
   "cell_type": "code",
   "execution_count": 32,
   "id": "41d30b83",
   "metadata": {},
   "outputs": [
    {
     "name": "stdout",
     "output_type": "stream",
     "text": [
      "{'acc': 0.8726591760299626, 'precision': 0.616, 'recall': 0.5877862595419847, 'f1': 0.6015625}\n"
     ]
    }
   ],
   "source": [
    "# Calculate metrics\n",
    "metrics = {}\n",
    "\n",
    "metrics[\"acc\"] = float(accuracy_score(y, predictions))\n",
    "metrics[\"precision\"] = float(precision_score(y, predictions))\n",
    "metrics[\"recall\"] = float(recall_score(y, predictions))\n",
    "metrics[\"f1\"] = float(f1_score(y, predictions))\n",
    "\n",
    "\n",
    "print(metrics)\n",
    "\n",
    "with open(PROJECT_ROOT / \"outputs\" / \"metrics.yaml\", 'w') as file:\n",
    "    yaml.dump(metrics, file, default_flow_style=False)"
   ]
  },
  {
   "cell_type": "code",
   "execution_count": null,
   "id": "f1a78d2a",
   "metadata": {},
   "outputs": [],
   "source": [
    "# Plot confusion matrix\n",
    "cm = confusion_matrix(y, predictions)\n",
    "\n",
    "disp = ConfusionMatrixDisplay(confusion_matrix=cm)\n",
    "disp.plot()\n",
    "\n",
    "plt.savefig(PROJECT_ROOT / \"outputs\" / \"confusion_matrix.png\", dpi=150, bbox_inches='tight', pad_inches=0)\n",
    "plt.show()"
   ]
  },
  {
   "cell_type": "markdown",
   "id": "c960acc1",
   "metadata": {},
   "source": [
    "*Attribution*:\n",
    "\n",
    "- https://github.com/benckx/dnn-movie-posters\n",
    "- https://medium.com/m2mtechconnect/classifying-pok%C3%A9mon-images-with-machine-learning-79b9bc07c080\n",
    "- https://www.kaggle.com/datasets/rounakbanik/pokemon"
   ]
  }
 ],
 "metadata": {
  "celltoolbar": "Tags",
  "kernelspec": {
   "display_name": "Python 3 (ipykernel)",
   "language": "python",
   "name": "python3"
  },
  "language_info": {
   "codemirror_mode": {
    "name": "ipython",
    "version": 3
   },
   "file_extension": ".py",
   "mimetype": "text/x-python",
   "name": "python",
   "nbconvert_exporter": "python",
   "pygments_lexer": "ipython3",
   "version": "3.9.13"
  },
  "vscode": {
   "interpreter": {
    "hash": "adfa5400c33c3eb8ae0d2dbb26097a67da7859b6917822b382ea60a42be13f69"
   }
  }
 },
 "nbformat": 4,
 "nbformat_minor": 5
}
